{
  "nbformat": 4,
  "nbformat_minor": 0,
  "metadata": {
    "colab": {
      "provenance": [],
      "authorship_tag": "ABX9TyMGls1yp01BDhfja9IkSXUp",
      "include_colab_link": true
    },
    "kernelspec": {
      "name": "python3",
      "display_name": "Python 3"
    },
    "language_info": {
      "name": "python"
    },
    "accelerator": "GPU",
    "gpuClass": "standard"
  },
  "cells": [
    {
      "cell_type": "markdown",
      "metadata": {
        "id": "view-in-github",
        "colab_type": "text"
      },
      "source": [
        "<a href=\"https://colab.research.google.com/github/zzyuzzz/123/blob/master/Untitled0.ipynb\" target=\"_parent\"><img src=\"https://colab.research.google.com/assets/colab-badge.svg\" alt=\"Open In Colab\"/></a>"
      ]
    },
    {
      "cell_type": "code",
      "execution_count": null,
      "metadata": {
        "colab": {
          "base_uri": "https://localhost:8080/"
        },
        "id": "J9VhDfjNRmpU",
        "outputId": "8ccce788-26f7-42e7-bf39-88f853be5b49"
      },
      "outputs": [
        {
          "output_type": "stream",
          "name": "stdout",
          "text": [
            "Cloning into 'stable-diffusion-webui'...\n",
            "remote: Enumerating objects: 16434, done.\u001b[K\n",
            "remote: Total 16434 (delta 0), reused 0 (delta 0), pack-reused 16434\u001b[K\n",
            "Receiving objects: 100% (16434/16434), 27.51 MiB | 35.39 MiB/s, done.\n",
            "Resolving deltas: 100% (11493/11493), done.\n"
          ]
        }
      ],
      "source": [
        "!git clone https://github.com/AUTOMATIC1111/stable-diffusion-webui.git"
      ]
    },
    {
      "cell_type": "code",
      "source": [
        "!wget -q -O chilloutmix_NiPrunedFp32.safetensor https://civitai.com/api/download/models/11745"
      ],
      "metadata": {
        "id": "GNFcc6cJV6D0"
      },
      "execution_count": null,
      "outputs": []
    },
    {
      "cell_type": "code",
      "source": [
        "!cp chilloutmix_NiPrunedFp32 /content/stable-diffusion-webui/models/Stable-diffusion"
      ],
      "metadata": {
        "id": "JrPO7T0gWIET"
      },
      "execution_count": null,
      "outputs": []
    },
    {
      "cell_type": "code",
      "source": [
        "!cd stable-diffusion-webui && python launch.py --share --xformers --enable-insecure-extension-access"
      ],
      "metadata": {
        "colab": {
          "base_uri": "https://localhost:8080/"
        },
        "id": "2_I0jYolR68P",
        "outputId": "621bdb79-aa79-403e-9281-de13c8315847"
      },
      "execution_count": null,
      "outputs": [
        {
          "output_type": "stream",
          "name": "stdout",
          "text": [
            "Python 3.8.10 (default, Nov 14 2022, 12:59:47) \n",
            "[GCC 9.4.0]\n",
            "Commit hash: 0cc0ee1bcb4c24a8c9715f66cede06601bfc00c8\n",
            "Installing xformers\n",
            "Installing requirements for Web UI\n",
            "Launching Web UI with arguments: --share --xformers --enable-insecure-extension-access\n",
            "2023-02-26 06:04:34.954834: I tensorflow/core/platform/cpu_feature_guard.cc:193] This TensorFlow binary is optimized with oneAPI Deep Neural Network Library (oneDNN) to use the following CPU instructions in performance-critical operations:  AVX2 FMA\n",
            "To enable them in other operations, rebuild TensorFlow with the appropriate compiler flags.\n",
            "2023-02-26 06:04:37.269945: W tensorflow/compiler/xla/stream_executor/platform/default/dso_loader.cc:64] Could not load dynamic library 'libnvinfer.so.7'; dlerror: libnvinfer.so.7: cannot open shared object file: No such file or directory; LD_LIBRARY_PATH: /usr/local/lib/python3.8/dist-packages/cv2/../../lib64:/usr/lib64-nvidia\n",
            "2023-02-26 06:04:37.270217: W tensorflow/compiler/xla/stream_executor/platform/default/dso_loader.cc:64] Could not load dynamic library 'libnvinfer_plugin.so.7'; dlerror: libnvinfer_plugin.so.7: cannot open shared object file: No such file or directory; LD_LIBRARY_PATH: /usr/local/lib/python3.8/dist-packages/cv2/../../lib64:/usr/lib64-nvidia\n",
            "2023-02-26 06:04:37.270251: W tensorflow/compiler/tf2tensorrt/utils/py_utils.cc:38] TF-TRT Warning: Cannot dlopen some TensorRT libraries. If you would like to use Nvidia GPU with TensorRT, please make sure the missing libraries mentioned above are installed properly.\n",
            "Loading weights [6ce0161689] from /content/stable-diffusion-webui/models/Stable-diffusion/v1-5-pruned-emaonly.safetensors\n",
            "Creating model from config: /content/stable-diffusion-webui/configs/v1-inference.yaml\n",
            "LatentDiffusion: Running in eps-prediction mode\n",
            "DiffusionWrapper has 859.52 M params.\n",
            "Applying xformers cross attention optimization.\n",
            "Textual inversion embeddings loaded(0): \n",
            "Model loaded in 10.8s (create model: 0.8s, apply weights to model: 4.1s, apply half(): 1.1s, load VAE: 4.0s, move model to device: 0.7s).\n",
            "Running on local URL:  http://127.0.0.1:7860\n",
            "Running on public URL: https://499430d9-7e27-46c5.gradio.live\n",
            "\n",
            "This share link expires in 72 hours. For free permanent hosting and GPU upgrades (NEW!), check out Spaces: https://huggingface.co/spaces\n",
            "Interrupted with signal 2 in <frame at 0xe8c4e20, file '/content/stable-diffusion-webui/webui.py', line 173, code wait_on_server>\n"
          ]
        }
      ]
    },
    {
      "cell_type": "code",
      "source": [
        "!ipconfig"
      ],
      "metadata": {
        "colab": {
          "base_uri": "https://localhost:8080/"
        },
        "id": "80dFsHxUT5RY",
        "outputId": "7191ad57-7782-4841-b587-a4ec7d8fc9df"
      },
      "execution_count": null,
      "outputs": [
        {
          "output_type": "stream",
          "name": "stdout",
          "text": [
            "/bin/bash: ipconfig: command not found\n"
          ]
        }
      ]
    }
  ]
}